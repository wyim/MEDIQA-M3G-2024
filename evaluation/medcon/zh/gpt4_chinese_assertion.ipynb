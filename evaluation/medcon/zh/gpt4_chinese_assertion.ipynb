{
 "cells": [
  {
   "cell_type": "code",
   "execution_count": 1,
   "metadata": {},
   "outputs": [],
   "source": [
    "from openai import OpenAI\n",
    "import openai\n",
    "\n",
    "client = OpenAI(\n",
    "    api_key='YOUR_KEY'\n",
    "        )"
   ]
  },
  {
   "cell_type": "code",
   "execution_count": null,
   "metadata": {},
   "outputs": [],
   "source": [
    "TEST_FILE_NAME = 'YOUR-TEST-FILE-PATH'"
   ]
  },
  {
   "cell_type": "code",
   "execution_count": 3,
   "metadata": {},
   "outputs": [],
   "source": [
    "def query_gpt(messages):\n",
    "    response = client.chat.completions.create(\n",
    "    model=\"gpt-4\",\n",
    "    messages=messages,\n",
    "    temperature=0,\n",
    "    # top_p=0.95,\n",
    "    # frequency_penalty=0,\n",
    "    # presence_penalty=0,\n",
    "    stop=None)\n",
    "    answer=response.choices[0].message.content\n",
    "    return answer"
   ]
  },
  {
   "cell_type": "code",
   "execution_count": null,
   "metadata": {},
   "outputs": [
    {
     "data": {
      "text/plain": [
       "'status value: present'"
      ]
     },
     "metadata": {},
     "output_type": "display_data"
    }
   ],
   "source": [
    "system=\"Decide the status value for each medical problem event. Choose from present, absent, possible, conditional, hypothetical, not_patient. present: patient experienced or is experiencing; absent: patient has not or is not experiencing; possible: patient may be experiencing (denoted by terms like “probably” or “likely”); conditional: patient only experiences under specific conditions; hypothetical: patient may experience in the future; not_patient: not associated with the patient\"\n",
    "user='应该是双侧发病，考虑湿疹 medical problem event: 湿疹'\n",
    "result=query_gpt([\n",
    "    {\"role\":\"system\",\"content\":system},\n",
    "    {\"role\":\"user\",\"content\":user}\n",
    "])\n",
    "result"
   ]
  },
  {
   "cell_type": "code",
   "execution_count": 65,
   "metadata": {},
   "outputs": [],
   "source": [
    "import json\n",
    "\n",
    "with open( TEST_FILE_NAME, 'r', encoding='utf-8') as f:\n",
    "    data = json.load(f)\n"
   ]
  },
  {
   "cell_type": "code",
   "execution_count": 62,
   "metadata": {},
   "outputs": [
    {
     "name": "stderr",
     "output_type": "stream",
     "text": [
      "100%|██████████| 100/100 [00:25<00:00,  3.98it/s]\n"
     ]
    }
   ],
   "source": [
    "## GET ASSERTION STATUS USING A GPT4 QUERY\n",
    "import time\n",
    "from tqdm import tqdm\n",
    "\n",
    "max_attempts = 100  # Maximum number of attempts for each operation\n",
    "\n",
    "for item in tqdm(data):\n",
    "    for response in item['responses']:\n",
    "        user_content = response[\"content_zh\"]\n",
    "        for output_item in response[\"UMLS_zh\"]:\n",
    "            if output_item[\"type\"] == \"Disease\":\n",
    "                query_content = user_content + \" medical problem event: \" + str(output_item[\"term\"])\n",
    "                attempts = 0  # Current attempt count\n",
    "                while attempts < max_attempts:\n",
    "                    try:\n",
    "                        status_value = query_gpt([\n",
    "                            {\"role\": \"system\", \"content\": system},\n",
    "                            {\"role\": \"user\", \"content\": query_content}\n",
    "                        ])\n",
    "                        output_item[\"status\"] = status_value\n",
    "                        break  # Break out of the loop if successful\n",
    "                    except TimeoutError as te:\n",
    "                        attempts += 1\n",
    "                        time.sleep(1)  # Wait a bit before retrying\n",
    "                    except Exception as e:\n",
    "                        attempts += 1\n",
    "                        time.sleep(1)  # Wait a bit before retrying\n",
    "                if attempts == max_attempts:\n",
    "                    # Handle the case where all attempts fail\n",
    "                    output_item[\"status\"] = ''  # Or any other default/error value"
   ]
  },
  {
   "cell_type": "code",
   "execution_count": 63,
   "metadata": {},
   "outputs": [
    {
     "name": "stdout",
     "output_type": "stream",
     "text": [
      "The total count for present: 5\n",
      "The total count for absent: 0\n",
      "The total count for possible: 48\n",
      "The total count for conditional: 0\n",
      "The total count for hypothetical: 0\n",
      "The total count for not_patient: 0\n",
      "The total number of irregular outputs:  0\n"
     ]
    }
   ],
   "source": [
    "status_counts = {status: 0 for status in ['present', 'absent', 'possible', 'conditional', 'hypothetical', 'not_patient']}\n",
    "irregular_count = 0\n",
    "\n",
    "for item in data:\n",
    "    for response in item['responses']:\n",
    "        for output_item in response[\"UMLS_zh\"]:\n",
    "            if output_item[\"type\"] == \"Disease\":\n",
    "                # Use .get() to avoid KeyError, and provide a default value '' (empty string)\n",
    "                status_value = output_item.get(\"status\", '').lower().split()\n",
    "                status_value_filtered = ' '.join([word for word in status_value \n",
    "                                                if word in ['present', 'absent', 'possible', 'conditional', 'hypothetical', 'not_patient']])\n",
    "                output_item[\"status\"] = status_value_filtered\n",
    "                \n",
    "                if status_value_filtered in status_counts:\n",
    "                    status_counts[status_value_filtered] += 1\n",
    "                else:\n",
    "                    irregular_count += 1\n",
    "\n",
    "# Print the counts for each status\n",
    "for status, count in status_counts.items():\n",
    "    print(f\"The total count for {status}: {count}\")\n",
    "\n",
    "print(\"The total number of irregular outputs: \", irregular_count)\n",
    "\n"
   ]
  },
  {
   "cell_type": "code",
   "execution_count": 54,
   "metadata": {},
   "outputs": [
    {
     "name": "stderr",
     "output_type": "stream",
     "text": [
      "100%|██████████| 100/100 [00:01<00:00, 77.58it/s]\n"
     ]
    }
   ],
   "source": [
    "## rerun gpt query for irregular outputs, then rerun the cell above until The total number of irregular outputs is 0.\n",
    "for item in tqdm(data):\n",
    "    for response in item['responses']:\n",
    "        user_content = response[\"content_zh\"]\n",
    "        for output_item in response[\"UMLS_zh\"]:\n",
    "            if (output_item[\"type\"] == \"Disease\") and (output_item[\"status\"] not in ['present', 'absent', 'possible', 'conditional', 'hypothetical', 'not_patient']):\n",
    "                query_content = \"Your output must be a single value in ['present', 'absent', 'possible', 'conditional', 'hypothetical', 'not_patient']: \" + user_content + \" medical problem event: \" + str(output_item[\"term\"])\n",
    "                attempts = 0  # Current attempt count\n",
    "                while attempts < max_attempts:\n",
    "                    try:\n",
    "                        status_value = query_gpt([\n",
    "                            {\"role\": \"system\", \"content\": system},\n",
    "                            {\"role\": \"user\", \"content\": query_content}\n",
    "                        ])\n",
    "                        output_item[\"status\"] = status_value\n",
    "                        break  # Break out of the loop if successful\n",
    "                    except TimeoutError as te:\n",
    "                        attempts += 1\n",
    "                        time.sleep(1)  # Wait a bit before retrying\n",
    "                    except Exception as e:\n",
    "                        attempts += 1\n",
    "                        time.sleep(1)  # Wait a bit before retrying\n",
    "                if attempts == max_attempts:\n",
    "                    # Handle the case where all attempts fail\n",
    "                    output_item[\"status\"] = ''  # Or any other default/error value"
   ]
  },
  {
   "cell_type": "code",
   "execution_count": 80,
   "metadata": {},
   "outputs": [],
   "source": [
    "with open(TEST_FILE_NAME, 'w', encoding='utf-8') as f:\n",
    "        json.dump(data, f, ensure_ascii=False, indent=4)"
   ]
  }
 ],
 "metadata": {
  "kernelspec": {
   "display_name": "py38",
   "language": "python",
   "name": "python3"
  },
  "language_info": {
   "codemirror_mode": {
    "name": "ipython",
    "version": 3
   },
   "file_extension": ".py",
   "mimetype": "text/x-python",
   "name": "python",
   "nbconvert_exporter": "python",
   "pygments_lexer": "ipython3",
   "version": "3.8.18"
  }
 },
 "nbformat": 4,
 "nbformat_minor": 2
}
